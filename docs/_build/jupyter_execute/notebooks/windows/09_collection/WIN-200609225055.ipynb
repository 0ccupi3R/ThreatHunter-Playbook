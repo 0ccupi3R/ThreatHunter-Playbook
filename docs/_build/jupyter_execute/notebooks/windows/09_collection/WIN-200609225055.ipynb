{
 "cells": [
  {
   "cell_type": "markdown",
   "metadata": {},
   "source": [
    "# Access to Microphone Device"
   ]
  },
  {
   "cell_type": "markdown",
   "metadata": {},
   "source": [
    "## Metadata"
   ]
  },
  {
   "cell_type": "markdown",
   "metadata": {},
   "source": [
    "\n",
    "|                   |    |\n",
    "|:------------------|:---|\n",
    "| collaborators     | ['Roberto Rodriguez @Cyb3rWard0g', 'Jose Rodriguez @Cyb3rPandaH'] |\n",
    "| creation date     | 2020/06/09 |\n",
    "| modification date | 2020/09/20 |\n",
    "| playbook related  | [] |"
   ]
  },
  {
   "cell_type": "markdown",
   "metadata": {},
   "source": [
    "## Hypothesis\n",
    "Adversaries might be accessing the microphone in endpoints over the network."
   ]
  },
  {
   "cell_type": "markdown",
   "metadata": {},
   "source": [
    "## Technical Context\n",
    "None"
   ]
  },
  {
   "cell_type": "markdown",
   "metadata": {},
   "source": [
    "## Offensive Tradecraft\n",
    "An adversary can leverage a computer's peripheral devices (e.g., microphones and webcams) or applications (e.g., voice and video call services) to capture audio recordings for the purpose of listening into sensitive conversations to gather information.\n",
    "Based on some research from [@svch0st](https://twitter.com/svch0st) you can to determine when and how long a process had access to the microphone of an endpoint by monitoring the following registry key\n",
    "  * HKEY_LOCAL_MACHINE\\SOFTWARE\\Microsoft\\Windows\\CurrentVersion\\CapabilityAccessManager\\ConsentStore\\microphone\\."
   ]
  },
  {
   "cell_type": "markdown",
   "metadata": {},
   "source": [
    "## Mordor Test Data"
   ]
  },
  {
   "cell_type": "markdown",
   "metadata": {},
   "source": [
    "\n",
    "|           |           |\n",
    "|:----------|:----------|\n",
    "| metadata  | https://mordordatasets.com/notebooks/small/windows/09_collection/SDWIN-200609225055.html        |\n",
    "| link      | [https://raw.githubusercontent.com/OTRF/mordor/master/datasets/small/windows/collection/host/msf_record_mic.zip](https://raw.githubusercontent.com/OTRF/mordor/master/datasets/small/windows/collection/host/msf_record_mic.zip)  |"
   ]
  },
  {
   "cell_type": "markdown",
   "metadata": {},
   "source": [
    "## Analytics"
   ]
  },
  {
   "cell_type": "markdown",
   "metadata": {},
   "source": [
    "### Initialize Analytics Engine"
   ]
  },
  {
   "cell_type": "code",
   "execution_count": 1,
   "metadata": {},
   "outputs": [],
   "source": [
    "from openhunt.mordorutils import *\n",
    "spark = get_spark()"
   ]
  },
  {
   "cell_type": "markdown",
   "metadata": {},
   "source": [
    "### Download & Process Mordor Dataset"
   ]
  },
  {
   "cell_type": "code",
   "execution_count": 2,
   "metadata": {},
   "outputs": [
    {
     "name": "stdout",
     "output_type": "stream",
     "text": [
      "[+] Processing a Spark DataFrame..\n",
      "[+] DataFrame Returned !\n"
     ]
    },
    {
     "name": "stdout",
     "output_type": "stream",
     "text": [
      "[+] Temporary SparkSQL View: mordorTable \n"
     ]
    }
   ],
   "source": [
    "mordor_file = \"https://raw.githubusercontent.com/OTRF/mordor/master/datasets/small/windows/collection/host/msf_record_mic.zip\"\n",
    "registerMordorSQLTable(spark, mordor_file, \"mordorTable\")"
   ]
  },
  {
   "cell_type": "markdown",
   "metadata": {},
   "source": [
    "### Analytic I\n",
    "Look for any creation or modification of registry keys under HKLM:\\SOFTWARE\\Microsoft\\Windows\\CurrentVersion\\CapabilityAccessManager\\ConsentStore\\microphone\\NonPackaged"
   ]
  },
  {
   "cell_type": "markdown",
   "metadata": {},
   "source": [
    "\n",
    "| Data source | Event Provider | Relationship | Event |\n",
    "|:------------|:---------------|--------------|-------|\n",
    "| Windows Registry | Microsoft-Windows-Sysmon/Operational | Process created Windows registry key | 12 |\n",
    "| Windows Registry | Microsoft-Windows-Sysmon/Operational | Process modified Windows registry key value | 13 |\n",
    "| Windows Registry | Microsoft-Windows-Sysmon/Operational | Process modified Windows registry key value | 14 |\n",
    "| Windows Registry | Microsoft-Windows-Sysmon/Operational | Process modified Windows registry key | 14 |"
   ]
  },
  {
   "cell_type": "code",
   "execution_count": 3,
   "metadata": {},
   "outputs": [
    {
     "name": "stdout",
     "output_type": "stream",
     "text": [
      "+-------+---------------------------------------------------------------------------------------------------------------------------------------------------------------------------------------------------------------------------------------------------------------------------------------------------------------------------------------------------------------------------------------------------------------------------------------------------+\n",
      "|EventID|Message                                                                                                                                                                                                                                                                                                                                                                                                                                            |\n",
      "+-------+---------------------------------------------------------------------------------------------------------------------------------------------------------------------------------------------------------------------------------------------------------------------------------------------------------------------------------------------------------------------------------------------------------------------------------------------------+\n",
      "|12     |Registry object added or deleted:\r\n",
      "RuleName: -\r\n",
      "EventType: CreateKey\r\n",
      "UtcTime: 2020-06-10 02:51:54.724\r\n",
      "ProcessGuid: {6a910b9d-480e-5ee0-7e03-000000000400}\r\n",
      "ProcessId: 7920\r\n",
      "Image: C:\\windows\\system32\\svchost.exe\r\n",
      "TargetObject: HKU\\S-1-5-21-526538150-889687948-186688817-1106\\Software\\Microsoft\\Windows\\CurrentVersion\\CapabilityAccessManager\\ConsentStore\\microphone\\NonPackaged                                                          |\n",
      "|13     |Registry value set:\r\n",
      "RuleName: -\r\n",
      "EventType: SetValue\r\n",
      "UtcTime: 2020-06-10 02:51:54.724\r\n",
      "ProcessGuid: {6a910b9d-480e-5ee0-7e03-000000000400}\r\n",
      "ProcessId: 7920\r\n",
      "Image: C:\\windows\\system32\\svchost.exe\r\n",
      "TargetObject: HKU\\S-1-5-21-526538150-889687948-186688817-1106\\Software\\Microsoft\\Windows\\CurrentVersion\\CapabilityAccessManager\\ConsentStore\\microphone\\NonPackaged\\Value\r\n",
      "Details: Allow                                                   |\n",
      "|12     |Registry object added or deleted:\r\n",
      "RuleName: -\r\n",
      "EventType: CreateKey\r\n",
      "UtcTime: 2020-06-10 02:51:55.398\r\n",
      "ProcessGuid: {6a910b9d-480e-5ee0-7e03-000000000400}\r\n",
      "ProcessId: 7920\r\n",
      "Image: C:\\windows\\system32\\svchost.exe\r\n",
      "TargetObject: HKLM\\SOFTWARE\\Microsoft\\Windows\\CurrentVersion\\CapabilityAccessManager\\ConsentStore\\microphone                                                                                                                 |\n",
      "|12     |Registry object added or deleted:\r\n",
      "RuleName: -\r\n",
      "EventType: CreateKey\r\n",
      "UtcTime: 2020-06-10 02:51:55.398\r\n",
      "ProcessGuid: {6a910b9d-480e-5ee0-7e03-000000000400}\r\n",
      "ProcessId: 7920\r\n",
      "Image: C:\\windows\\system32\\svchost.exe\r\n",
      "TargetObject: HKLM\\SOFTWARE\\Microsoft\\Windows\\CurrentVersion\\CapabilityAccessManager\\ConsentStore\\microphone\\NonPackaged                                                                                                     |\n",
      "|12     |Registry object added or deleted:\r\n",
      "RuleName: -\r\n",
      "EventType: CreateKey\r\n",
      "UtcTime: 2020-06-10 02:51:55.398\r\n",
      "ProcessGuid: {6a910b9d-480e-5ee0-7e03-000000000400}\r\n",
      "ProcessId: 7920\r\n",
      "Image: C:\\windows\\system32\\svchost.exe\r\n",
      "TargetObject: HKLM\\SOFTWARE\\Microsoft\\Windows\\CurrentVersion\\CapabilityAccessManager\\ConsentStore\\microphone\\NonPackaged\\C:#Windows#System32#WindowsPowerShell#v1.0#powershell.exe                                           |\n",
      "|13     |Registry value set:\r\n",
      "RuleName: -\r\n",
      "EventType: SetValue\r\n",
      "UtcTime: 2020-06-10 02:51:55.398\r\n",
      "ProcessGuid: {6a910b9d-480e-5ee0-7e03-000000000400}\r\n",
      "ProcessId: 7920\r\n",
      "Image: C:\\windows\\system32\\svchost.exe\r\n",
      "TargetObject: HKLM\\SOFTWARE\\Microsoft\\Windows\\CurrentVersion\\CapabilityAccessManager\\ConsentStore\\microphone\\NonPackaged\\C:#Windows#System32#WindowsPowerShell#v1.0#powershell.exe\\LastUsedTimeStart\r\n",
      "Details: QWORD (0x01d63ed2-0x19fba509)|\n",
      "|12     |Registry object added or deleted:\r\n",
      "RuleName: -\r\n",
      "EventType: CreateKey\r\n",
      "UtcTime: 2020-06-10 02:51:55.398\r\n",
      "ProcessGuid: {6a910b9d-480e-5ee0-7e03-000000000400}\r\n",
      "ProcessId: 7920\r\n",
      "Image: C:\\windows\\system32\\svchost.exe\r\n",
      "TargetObject: HKLM\\SOFTWARE\\Microsoft\\Windows\\CurrentVersion\\CapabilityAccessManager\\ConsentStore\\microphone\\NonPackaged\\C:#Windows#System32#WindowsPowerShell#v1.0#powershell.exe                                           |\n",
      "|13     |Registry value set:\r\n",
      "RuleName: -\r\n",
      "EventType: SetValue\r\n",
      "UtcTime: 2020-06-10 02:51:55.398\r\n",
      "ProcessGuid: {6a910b9d-480e-5ee0-7e03-000000000400}\r\n",
      "ProcessId: 7920\r\n",
      "Image: C:\\windows\\system32\\svchost.exe\r\n",
      "TargetObject: HKLM\\SOFTWARE\\Microsoft\\Windows\\CurrentVersion\\CapabilityAccessManager\\ConsentStore\\microphone\\NonPackaged\\C:#Windows#System32#WindowsPowerShell#v1.0#powershell.exe\\LastUsedTimeStop\r\n",
      "Details: QWORD (0x00000000-0x00000000) |\n",
      "|12     |Registry object added or deleted:\r\n",
      "RuleName: -\r\n",
      "EventType: CreateKey\r\n",
      "UtcTime: 2020-06-10 02:52:00.951\r\n",
      "ProcessGuid: {6a910b9d-480e-5ee0-7e03-000000000400}\r\n",
      "ProcessId: 7920\r\n",
      "Image: C:\\windows\\system32\\svchost.exe\r\n",
      "TargetObject: HKLM\\SOFTWARE\\Microsoft\\Windows\\CurrentVersion\\CapabilityAccessManager\\ConsentStore\\microphone\\NonPackaged\\C:#Windows#System32#WindowsPowerShell#v1.0#powershell.exe                                           |\n",
      "|13     |Registry value set:\r\n",
      "RuleName: -\r\n",
      "EventType: SetValue\r\n",
      "UtcTime: 2020-06-10 02:52:00.951\r\n",
      "ProcessGuid: {6a910b9d-480e-5ee0-7e03-000000000400}\r\n",
      "ProcessId: 7920\r\n",
      "Image: C:\\windows\\system32\\svchost.exe\r\n",
      "TargetObject: HKLM\\SOFTWARE\\Microsoft\\Windows\\CurrentVersion\\CapabilityAccessManager\\ConsentStore\\microphone\\NonPackaged\\C:#Windows#System32#WindowsPowerShell#v1.0#powershell.exe\\LastUsedTimeStop\r\n",
      "Details: QWORD (0x01d63ed2-0x1d4adb0a) |\n",
      "+-------+---------------------------------------------------------------------------------------------------------------------------------------------------------------------------------------------------------------------------------------------------------------------------------------------------------------------------------------------------------------------------------------------------------------------------------------------------+\n",
      "\n"
     ]
    }
   ],
   "source": [
    "df = spark.sql(\n",
    "'''\n",
    "SELECT EventID, Message\n",
    "FROM mordorTable\n",
    "WHERE Channel = 'Microsoft-Windows-Sysmon/Operational'\n",
    "  AND EventID IN (12,13,14)\n",
    "  AND LOWER(TargetObject) RLIKE '.*consentstore\\\\\\\\\\\\\\microphone.*'\n",
    "'''\n",
    ")\n",
    "df.show(10,False)"
   ]
  },
  {
   "cell_type": "markdown",
   "metadata": {},
   "source": [
    "### Analytic II\n",
    "Look for any creation or modification of registry keys under HKLM:\\SOFTWARE\\Microsoft\\Windows\\CurrentVersion\\CapabilityAccessManager\\ConsentStore\\microphone\\NonPackaged"
   ]
  },
  {
   "cell_type": "markdown",
   "metadata": {},
   "source": [
    "\n",
    "| Data source | Event Provider | Relationship | Event |\n",
    "|:------------|:---------------|--------------|-------|\n",
    "| Windows Registry | Microsoft-Windows-Security-Auditing | Process accessed Windows registry key | 4663 |\n",
    "| Windows Registry | Microsoft-Windows-Security-Auditing | User accessed Windows registry key | 4663 |\n",
    "| Windows Registry | Microsoft-Windows-Security-Auditing | Process requested access Windows registry key | 4656 |\n",
    "| Windows Registry | Microsoft-Windows-Security-Auditing | User requested access Windows registry key | 4656 |\n",
    "| Windows Registry | Microsoft-Windows-Security-Auditing | Process modified Windows registry key value | 4657 |\n",
    "| Windows Registry | Microsoft-Windows-Security-Auditing | User modified Windows registry key value | 4657 |"
   ]
  },
  {
   "cell_type": "code",
   "execution_count": 4,
   "metadata": {},
   "outputs": [
    {
     "name": "stdout",
     "output_type": "stream",
     "text": [
      "+-------+--------------------------------------------------------------------------------------------------------------------------------------------------------------------------------------------------------------------------------------------------------------------------------------------------------------------------------------------------------------------------------------------------------------------------------------------------------------------------------------------------------------------------------------------------------------------------------------------------------------------------------------------------------------------------------------------------------------------------------------------------------------------------------------------------------------------------------------------------------------------------------------------------------------------------------------------------------------------------------------+\n",
      "|EventID|Message                                                                                                                                                                                                                                                                                                                                                                                                                                                                                                                                                                                                                                                                                                                                                                                                                                                                                                                                                                               |\n",
      "+-------+--------------------------------------------------------------------------------------------------------------------------------------------------------------------------------------------------------------------------------------------------------------------------------------------------------------------------------------------------------------------------------------------------------------------------------------------------------------------------------------------------------------------------------------------------------------------------------------------------------------------------------------------------------------------------------------------------------------------------------------------------------------------------------------------------------------------------------------------------------------------------------------------------------------------------------------------------------------------------------------+\n",
      "|4656   |A handle to an object was requested.\r\n",
      "\r\n",
      "Subject:\r\n",
      "\tSecurity ID:\t\tS-1-5-18\r\n",
      "\tAccount Name:\t\tWORKSTATION6$\r\n",
      "\tAccount Domain:\t\tMORDOR\r\n",
      "\tLogon ID:\t\t0x3E7\r\n",
      "\r\n",
      "Object:\r\n",
      "\tObject Server:\t\tSecurity\r\n",
      "\tObject Type:\t\tKey\r\n",
      "\tObject Name:\t\t\\REGISTRY\\MACHINE\\SOFTWARE\\Microsoft\\Windows\\CurrentVersion\\CapabilityAccessManager\\ConsentStore\\microphone\\NonPackaged\\C:#Windows#System32#WindowsPowerShell#v1.0#powershell.exe\r\n",
      "\tHandle ID:\t\t0x2f4\r\n",
      "\tResource Attributes:\t-\r\n",
      "\r\n",
      "Process Information:\r\n",
      "\tProcess ID:\t\t0x1ef0\r\n",
      "\tProcess Name:\t\tC:\\Windows\\System32\\svchost.exe\r\n",
      "\r\n",
      "Access Request Information:\r\n",
      "\tTransaction ID:\t\t{00000000-0000-0000-0000-000000000000}\r\n",
      "\tAccesses:\t\tDELETE\r\n",
      "\t\t\t\tREAD_CONTROL\r\n",
      "\t\t\t\tWRITE_DAC\r\n",
      "\t\t\t\tWRITE_OWNER\r\n",
      "\t\t\t\tQuery key value\r\n",
      "\t\t\t\tSet key value\r\n",
      "\t\t\t\tCreate sub-key\r\n",
      "\t\t\t\tEnumerate sub-keys\r\n",
      "\t\t\t\tNotify about changes to keys\r\n",
      "\t\t\t\tCreate Link\r\n",
      "\t\t\t\t\r\n",
      "\tAccess Reasons:\t\t-\r\n",
      "\tAccess Mask:\t\t0xF003F\r\n",
      "\tPrivileges Used for Access Check:\t-\r\n",
      "\tRestricted SID Count:\t0|\n",
      "|4663   |An attempt was made to access an object.\r\n",
      "\r\n",
      "Subject:\r\n",
      "\tSecurity ID:\t\tS-1-5-18\r\n",
      "\tAccount Name:\t\tWORKSTATION6$\r\n",
      "\tAccount Domain:\t\tMORDOR\r\n",
      "\tLogon ID:\t\t0x3E7\r\n",
      "\r\n",
      "Object:\r\n",
      "\tObject Server:\t\tSecurity\r\n",
      "\tObject Type:\t\tKey\r\n",
      "\tObject Name:\t\t\\REGISTRY\\MACHINE\\SOFTWARE\\Microsoft\\Windows\\CurrentVersion\\CapabilityAccessManager\\ConsentStore\\microphone\\NonPackaged\\C:#Windows#System32#WindowsPowerShell#v1.0#powershell.exe\r\n",
      "\tHandle ID:\t\t0x2f4\r\n",
      "\tResource Attributes:\t-\r\n",
      "\r\n",
      "Process Information:\r\n",
      "\tProcess ID:\t\t0x1ef0\r\n",
      "\tProcess Name:\t\tC:\\Windows\\System32\\svchost.exe\r\n",
      "\r\n",
      "Access Request Information:\r\n",
      "\tAccesses:\t\tSet key value\r\n",
      "\t\t\t\t\r\n",
      "\tAccess Mask:\t\t0x2                                                                                                                                                                                                                                                                                                                                 |\n",
      "|4657   |A registry value was modified.\r\n",
      "\r\n",
      "Subject:\r\n",
      "\tSecurity ID:\t\tS-1-5-18\r\n",
      "\tAccount Name:\t\tWORKSTATION6$\r\n",
      "\tAccount Domain:\t\tMORDOR\r\n",
      "\tLogon ID:\t\t0x3E7\r\n",
      "\r\n",
      "Object:\r\n",
      "\tObject Name:\t\t\\REGISTRY\\MACHINE\\SOFTWARE\\Microsoft\\Windows\\CurrentVersion\\CapabilityAccessManager\\ConsentStore\\microphone\\NonPackaged\\C:#Windows#System32#WindowsPowerShell#v1.0#powershell.exe\r\n",
      "\tObject Value Name:\tLastUsedTimeStop\r\n",
      "\tHandle ID:\t\t0x2f4\r\n",
      "\tOperation Type:\t\tNew registry value created\r\n",
      "\r\n",
      "Process Information:\r\n",
      "\tProcess ID:\t\t0x1ef0\r\n",
      "\tProcess Name:\t\tC:\\Windows\\System32\\svchost.exe\r\n",
      "\r\n",
      "Change Information:\r\n",
      "\tOld Value Type:\t\t-\r\n",
      "\tOld Value:\t\t-\r\n",
      "\tNew Value Type:\t\tREG_QWORD\r\n",
      "\tNew Value:\t\t0x0                                                                                                                                                                                                                                                                                                        |\n",
      "|4656   |A handle to an object was requested.\r\n",
      "\r\n",
      "Subject:\r\n",
      "\tSecurity ID:\t\tS-1-5-18\r\n",
      "\tAccount Name:\t\tWORKSTATION6$\r\n",
      "\tAccount Domain:\t\tMORDOR\r\n",
      "\tLogon ID:\t\t0x3E7\r\n",
      "\r\n",
      "Object:\r\n",
      "\tObject Server:\t\tSecurity\r\n",
      "\tObject Type:\t\tKey\r\n",
      "\tObject Name:\t\t\\REGISTRY\\MACHINE\\SOFTWARE\\Microsoft\\Windows\\CurrentVersion\\CapabilityAccessManager\\ConsentStore\\microphone\\NonPackaged\\C:#Windows#System32#WindowsPowerShell#v1.0#powershell.exe\r\n",
      "\tHandle ID:\t\t0x1dc\r\n",
      "\tResource Attributes:\t-\r\n",
      "\r\n",
      "Process Information:\r\n",
      "\tProcess ID:\t\t0x1ef0\r\n",
      "\tProcess Name:\t\tC:\\Windows\\System32\\svchost.exe\r\n",
      "\r\n",
      "Access Request Information:\r\n",
      "\tTransaction ID:\t\t{00000000-0000-0000-0000-000000000000}\r\n",
      "\tAccesses:\t\tDELETE\r\n",
      "\t\t\t\tREAD_CONTROL\r\n",
      "\t\t\t\tWRITE_DAC\r\n",
      "\t\t\t\tWRITE_OWNER\r\n",
      "\t\t\t\tQuery key value\r\n",
      "\t\t\t\tSet key value\r\n",
      "\t\t\t\tCreate sub-key\r\n",
      "\t\t\t\tEnumerate sub-keys\r\n",
      "\t\t\t\tNotify about changes to keys\r\n",
      "\t\t\t\tCreate Link\r\n",
      "\t\t\t\t\r\n",
      "\tAccess Reasons:\t\t-\r\n",
      "\tAccess Mask:\t\t0xF003F\r\n",
      "\tPrivileges Used for Access Check:\t-\r\n",
      "\tRestricted SID Count:\t0|\n",
      "|4663   |An attempt was made to access an object.\r\n",
      "\r\n",
      "Subject:\r\n",
      "\tSecurity ID:\t\tS-1-5-18\r\n",
      "\tAccount Name:\t\tWORKSTATION6$\r\n",
      "\tAccount Domain:\t\tMORDOR\r\n",
      "\tLogon ID:\t\t0x3E7\r\n",
      "\r\n",
      "Object:\r\n",
      "\tObject Server:\t\tSecurity\r\n",
      "\tObject Type:\t\tKey\r\n",
      "\tObject Name:\t\t\\REGISTRY\\MACHINE\\SOFTWARE\\Microsoft\\Windows\\CurrentVersion\\CapabilityAccessManager\\ConsentStore\\microphone\\NonPackaged\\C:#Windows#System32#WindowsPowerShell#v1.0#powershell.exe\r\n",
      "\tHandle ID:\t\t0x1dc\r\n",
      "\tResource Attributes:\t-\r\n",
      "\r\n",
      "Process Information:\r\n",
      "\tProcess ID:\t\t0x1ef0\r\n",
      "\tProcess Name:\t\tC:\\Windows\\System32\\svchost.exe\r\n",
      "\r\n",
      "Access Request Information:\r\n",
      "\tAccesses:\t\tSet key value\r\n",
      "\t\t\t\t\r\n",
      "\tAccess Mask:\t\t0x2                                                                                                                                                                                                                                                                                                                                 |\n",
      "|4657   |A registry value was modified.\r\n",
      "\r\n",
      "Subject:\r\n",
      "\tSecurity ID:\t\tS-1-5-18\r\n",
      "\tAccount Name:\t\tWORKSTATION6$\r\n",
      "\tAccount Domain:\t\tMORDOR\r\n",
      "\tLogon ID:\t\t0x3E7\r\n",
      "\r\n",
      "Object:\r\n",
      "\tObject Name:\t\t\\REGISTRY\\MACHINE\\SOFTWARE\\Microsoft\\Windows\\CurrentVersion\\CapabilityAccessManager\\ConsentStore\\microphone\\NonPackaged\\C:#Windows#System32#WindowsPowerShell#v1.0#powershell.exe\r\n",
      "\tObject Value Name:\tLastUsedTimeStop\r\n",
      "\tHandle ID:\t\t0x1dc\r\n",
      "\tOperation Type:\t\tExisting registry value modified\r\n",
      "\r\n",
      "Process Information:\r\n",
      "\tProcess ID:\t\t0x1ef0\r\n",
      "\tProcess Name:\t\tC:\\Windows\\System32\\svchost.exe\r\n",
      "\r\n",
      "Change Information:\r\n",
      "\tOld Value Type:\t\tREG_QWORD\r\n",
      "\tOld Value:\t\t0x0\r\n",
      "\tNew Value Type:\t\tREG_QWORD\r\n",
      "\tNew Value:\t\t0x1D63ED21D4ADB0A                                                                                                                                                                                                                                                                          |\n",
      "+-------+--------------------------------------------------------------------------------------------------------------------------------------------------------------------------------------------------------------------------------------------------------------------------------------------------------------------------------------------------------------------------------------------------------------------------------------------------------------------------------------------------------------------------------------------------------------------------------------------------------------------------------------------------------------------------------------------------------------------------------------------------------------------------------------------------------------------------------------------------------------------------------------------------------------------------------------------------------------------------------------+\n",
      "\n"
     ]
    }
   ],
   "source": [
    "df = spark.sql(\n",
    "'''\n",
    "SELECT EventID, Message\n",
    "FROM mordorTable\n",
    "WHERE LOWER(Channel) = 'security'\n",
    "  AND EventID IN (4656,4663,4657)\n",
    "  AND LOWER(ObjectName) RLIKE '.*consentstore\\\\\\\\\\\\\\microphone.*'\n",
    "'''\n",
    ")\n",
    "df.show(10,False)"
   ]
  },
  {
   "cell_type": "markdown",
   "metadata": {},
   "source": [
    "## Known Bypasses"
   ]
  },
  {
   "cell_type": "markdown",
   "metadata": {},
   "source": [
    "\n",
    "| Idea | Playbook |\n",
    "|:-----|:---------|"
   ]
  },
  {
   "cell_type": "markdown",
   "metadata": {},
   "source": [
    "## False Positives\n",
    "None"
   ]
  },
  {
   "cell_type": "markdown",
   "metadata": {},
   "source": [
    "## Hunter Notes\n",
    "None"
   ]
  },
  {
   "cell_type": "markdown",
   "metadata": {},
   "source": [
    "## Hunt Output\n",
    "\n",
    "| Type | Link |\n",
    "| :----| :----|\n",
    "| Sigma Rule | [https://github.com/OTRF/ThreatHunter-Playbook/blob/master/signatures/sigma/sysmon_camera_microphone_access.yml](https://github.com/OTRF/ThreatHunter-Playbook/blob/master/signatures/sigma/sysmon_camera_microphone_access.yml) |\n",
    "| Sigma Rule | [https://github.com/OTRF/ThreatHunter-Playbook/blob/master/signatures/sigma/win_camera_microphone_access.yml](https://github.com/OTRF/ThreatHunter-Playbook/blob/master/signatures/sigma/win_camera_microphone_access.yml) |"
   ]
  },
  {
   "cell_type": "markdown",
   "metadata": {},
   "source": [
    "## References\n",
    "* https://medium.com/@7a616368/can-you-track-processes-accessing-the-camera-and-microphone-7e6885b37072"
   ]
  }
 ],
 "metadata": {
  "kernelspec": {
   "display_name": "PySpark_Python3",
   "language": "python",
   "name": "pyspark3"
  },
  "language_info": {
   "codemirror_mode": {
    "name": "ipython",
    "version": 3
   },
   "file_extension": ".py",
   "mimetype": "text/x-python",
   "name": "python",
   "nbconvert_exporter": "python",
   "pygments_lexer": "ipython3",
   "version": "3.8.5"
  }
 },
 "nbformat": 4,
 "nbformat_minor": 4
}