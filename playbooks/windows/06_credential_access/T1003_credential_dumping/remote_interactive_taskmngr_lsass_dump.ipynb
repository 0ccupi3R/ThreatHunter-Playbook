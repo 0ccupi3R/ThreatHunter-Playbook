{
 "cells": [
  {
   "cell_type": "markdown",
   "metadata": {},
   "source": [
    "# Remote Interactive Task Manager LSASS Dump\n",
    "\n",
    "## Playbook Tags\n",
    "\n",
    "**ID:** WINEXEC191030201010\n",
    "\n",
    "**Author:** Roberto Rodriguez [@Cyb3rWard0g](https://twitter.com/Cyb3rWard0g)\n",
    "\n",
    "**References:**\n",
    "\n",
    "## ATT&CK Tags\n",
    "\n",
    "**Tactic:** Credential Access\n",
    "\n",
    "**Technique:** Credential Dumping\n",
    "\n",
    "## Applies To\n",
    "\n",
    "## Technical Description\n",
    "\n",
    "The Windows Task Manager may be used to dump the memory space of lsass.exe to disk for processing with a credential access tool such as Mimikatz. This is performed by launching Task Manager as a privileged user, selecting lsass.exe, and clicking “Create dump file”. This saves a dump file to disk with a deterministic name that includes the name of the process being dumped. [Reference](https://car.mitre.org/analytics/CAR-2019-08-001/)\n",
    "\n",
    "### Additional Reading\n",
    "\n",
    "\n",
    "## Permission Required\n",
    "\n",
    "Administrator\n",
    "\n",
    "## Hypothesis\n",
    "\n",
    "Adversaries might be RDPing to computers in my environment and interactively dumping the memory contents of LSASS with task manager.\n",
    "\n",
    "## Attack Simulation Dataset\n",
    "\n",
    "| Environment| Name | Description |\n",
    "|--------|---------|---------|\n",
    "| [Shire](https://github.com/Cyb3rWard0g/mordor/tree/acf9f6be6a386783a20139ceb2faf8146378d603/environment/shire) | [remoteinteractive_taskmngr_lsass_dump](https://github.com/hunters-forge/mordor/blob/master/small_datasets/windows/credential_access/credential_dumping_T1003/remoteinteractive_taskmngr_lsass_dump.md) | An adversary with local admin rights over the host can easily RDP to a victims box, use task manager interactively and dump the memory space of lsass. |\n",
    "| [Shire](https://github.com/Cyb3rWard0g/mordor/tree/acf9f6be6a386783a20139ceb2faf8146378d603/environment/shire) | [interactive_taskmngr_lsass_dump](https://github.com/hunters-forge/mordor/blob/master/small_datasets/windows/credential_access/credential_dumping_T1003/interactive_taskmngr_lsass_dump.md) | An adversary with local admin rights over the host can easily use task manager interactively and dump the memory space of lsass. |\n",
    "\n",
    "## Recommended Data Sources\n",
    "\n",
    "| Event ID | Event Name | Log Provider | Audit Category | Audit Sub-Category | ATT&CK Data Source |\n",
    "|---------|---------|----------|----------|---------|---------|\n",
    "| [4778](https://github.com/hunters-forge/OSSEM/blob/master/data_dictionaries/windows/security/events/event-4778.md) | A session was reconnected to a Windows Station | Microsoft-Windows-Security-Auditing | | | Windows Event Logs |\n",
    "| [1](https://github.com/Cyb3rWard0g/OSSEM/blob/master/data_dictionaries/windows/sysmon/event-1.md) | Process Creation | Microsoft-Windows-Sysmon | | | Process Monitoring |\n",
    "| [10](https://github.com/hunters-forge/OSSEM/blob/master/data_dictionaries/windows/sysmon/event-10.md) | Process Access | Microsoft-Windows-Sysmon | |  | Process Monitoring |\n",
    "| [11](https://github.com/hunters-forge/OSSEM/blob/master/data_dictionaries/windows/sysmon/event-11.md) | File Create | Microsoft-Windows-Sysmon |  |  | File Monitoring |"
   ]
  },
  {
   "cell_type": "markdown",
   "metadata": {},
   "source": [
    "## Data Analytics\n",
    "### Initialize Analytics Engine"
   ]
  },
  {
   "cell_type": "code",
   "execution_count": 1,
   "metadata": {},
   "outputs": [],
   "source": [
    "from openhunt.logparser import winlogbeat\n",
    "from pyspark.sql import SparkSession"
   ]
  },
  {
   "cell_type": "code",
   "execution_count": 2,
   "metadata": {},
   "outputs": [
    {
     "name": "stdout",
     "output_type": "stream",
     "text": [
      "<pyspark.sql.session.SparkSession object at 0x7f73ef307a90>\n"
     ]
    }
   ],
   "source": [
    "win = winlogbeat()\n",
    "spark = SparkSession.builder.appName(\"Mordor\").config(\"spark.sql.caseSensitive\", \"True\").getOrCreate()\n",
    "print(spark)"
   ]
  },
  {
   "cell_type": "markdown",
   "metadata": {},
   "source": [
    "#### Prepare & Process Mordor File"
   ]
  },
  {
   "cell_type": "code",
   "execution_count": 3,
   "metadata": {},
   "outputs": [
    {
     "name": "stdout",
     "output_type": "stream",
     "text": [
      "[+] Processing a Spark DataFrame..\n",
      "[+] Reading Mordor file..\n",
      "[+] Processing Data from Winlogbeat version 7..\n",
      "[+] DataFrame Returned !\n"
     ]
    }
   ],
   "source": [
    "mordor_file = win.extract_nested_fields(\"mordor/small_datasets/remoteinteractive_taskmngr_lsass_dump_2019-10-27055035.json\",spark)"
   ]
  },
  {
   "cell_type": "markdown",
   "metadata": {},
   "source": [
    "#### Register Mordor DataFrame as a SQL temporary view"
   ]
  },
  {
   "cell_type": "code",
   "execution_count": 4,
   "metadata": {},
   "outputs": [],
   "source": [
    "mordor_file.createOrReplaceTempView(\"mordor_file\")"
   ]
  },
  {
   "cell_type": "markdown",
   "metadata": {},
   "source": [
    "### Validate Analytic I\n",
    "| FP Rate | Source | Analytic Logic | Description |\n",
    "|--------|---------|---------|---------|\n",
    "| Medium | Security | SELECT `@timestamp`, computer_name, Image, TargetFilename, ProcessGuid FROM mordor_file WHERE channel = \"Microsoft-Windows-Sysmon/Operational\" AND event_id = 11 AND Image LIKE \"%taskmgr.exe\" AND lower(TargetFilename) RLIKE \".*lsass.*\\.dmp\" | Look for taskmgr creating files which name contains the string lsass and with extension .dmp. |"
   ]
  },
  {
   "cell_type": "code",
   "execution_count": 5,
   "metadata": {},
   "outputs": [
    {
     "name": "stdout",
     "output_type": "stream",
     "text": [
      "+------------------------+----------------+-------------------------------+------------------------------------------------+--------------------------------------+\n",
      "|@timestamp              |computer_name   |Image                          |TargetFilename                                  |ProcessGuid                           |\n",
      "+------------------------+----------------+-------------------------------+------------------------------------------------+--------------------------------------+\n",
      "|2019-10-27T05:51:07.428Z|HFDC01.shire.com|C:\\Windows\\system32\\taskmgr.exe|C:\\Users\\ADMINI~1\\AppData\\Local\\Temp\\2\\lsass.DMP|{e7604876-3040-5db5-0000-00100e2e8300}|\n",
      "+------------------------+----------------+-------------------------------+------------------------------------------------+--------------------------------------+\n",
      "\n"
     ]
    }
   ],
   "source": [
    "sysmon_file_df = spark.sql(\n",
    "    '''\n",
    "    SELECT `@timestamp`, computer_name, Image, TargetFilename, ProcessGuid\n",
    "    FROM mordor_file\n",
    "    WHERE channel = \"Microsoft-Windows-Sysmon/Operational\"\n",
    "        AND event_id = 11\n",
    "        AND Image LIKE \"%taskmgr.exe\"\n",
    "        AND lower(TargetFilename) RLIKE \".*lsass.*\\.dmp\"\n",
    "    '''\n",
    ")\n",
    "sysmon_file_df.show(10, False)"
   ]
  },
  {
   "cell_type": "markdown",
   "metadata": {},
   "source": [
    "### Validate Analytic II\n",
    "| FP Rate | Source | Analytic Logic | Description |\n",
    "|--------|---------|---------|---------|\n",
    "| Medium | Sysmon | SELECT `@timestamp`, computer_name, SourceImage, TargetImage, GrantedAccess FROM mordor_file WHERE channel = \"Microsoft-Windows-Sysmon/Operational\" AND event_id = 10 AND lower(SourceImage) LIKE \"%taskmgr.exe\" AND lower(TargetImage) LIKE \"%lsass.exe\" AND (lower(CallTrace) RLIKE \".\\*dbgcore\\.dll.\\*\" OR lower(CallTrace) RLIKE \".\\*dbghelp\\.dll.\\*\") | Look for task manager access lsass and with functions from dbgcore.dll or dbghelp.dll libraries |"
   ]
  },
  {
   "cell_type": "code",
   "execution_count": 6,
   "metadata": {},
   "outputs": [
    {
     "name": "stdout",
     "output_type": "stream",
     "text": [
      "+------------------------+----------------+-------------------------------+-----------------------------+-------------+\n",
      "|@timestamp              |computer_name   |SourceImage                    |TargetImage                  |GrantedAccess|\n",
      "+------------------------+----------------+-------------------------------+-----------------------------+-------------+\n",
      "|2019-10-27T05:51:07.490Z|HFDC01.shire.com|C:\\Windows\\system32\\taskmgr.exe|C:\\Windows\\system32\\lsass.exe|0x1fffff     |\n",
      "+------------------------+----------------+-------------------------------+-----------------------------+-------------+\n",
      "\n"
     ]
    }
   ],
   "source": [
    "sysmon_process_access_df = spark.sql(\n",
    "    '''\n",
    "    SELECT `@timestamp`, computer_name, SourceImage, TargetImage, GrantedAccess\n",
    "    FROM mordor_file\n",
    "    WHERE channel = \"Microsoft-Windows-Sysmon/Operational\"\n",
    "        AND event_id = 10\n",
    "        AND lower(SourceImage) LIKE \"%taskmgr.exe\"\n",
    "        AND lower(TargetImage) LIKE \"%lsass.exe\"\n",
    "        AND (lower(CallTrace) RLIKE \".*dbgcore\\.dll.*\" OR lower(CallTrace) RLIKE \".*dbghelp\\.dll.*\")\n",
    "    '''\n",
    ")\n",
    "sysmon_process_access_df.show(10,False)"
   ]
  },
  {
   "cell_type": "markdown",
   "metadata": {},
   "source": [
    "### Validate Analytic III\n",
    "| FP Rate | Source | Analytic Logic | Description |\n",
    "|--------|---------|---------|---------|\n",
    "| Medium | Sysmon | SELECT `@timestamp`, computer_name, SourceImage, TargetImage, GrantedAccess FROM mordor_file WHERE channel = \"Microsoft-Windows-Sysmon/Operational\" AND event_id = 10 AND lower(TargetImage) LIKE \"%lsass.exe\" AND (lower(CallTrace) RLIKE \".\\*dbgcore\\.dll.\\*\" OR lower(CallTrace) RLIKE \".\\*dbghelp\\.dll.\\*\") | Look for any process accessing lsass and with functions from dbgcore.dll or dbghelp.dll libraries |"
   ]
  },
  {
   "cell_type": "code",
   "execution_count": 7,
   "metadata": {},
   "outputs": [
    {
     "name": "stdout",
     "output_type": "stream",
     "text": [
      "+------------------------+----------------+-------------------------------+-----------------------------+-------------+\n",
      "|@timestamp              |computer_name   |SourceImage                    |TargetImage                  |GrantedAccess|\n",
      "+------------------------+----------------+-------------------------------+-----------------------------+-------------+\n",
      "|2019-10-27T05:51:07.490Z|HFDC01.shire.com|C:\\Windows\\system32\\taskmgr.exe|C:\\Windows\\system32\\lsass.exe|0x1fffff     |\n",
      "+------------------------+----------------+-------------------------------+-----------------------------+-------------+\n",
      "\n"
     ]
    }
   ],
   "source": [
    "sysmon_process_access_df = spark.sql(\n",
    "    '''\n",
    "    SELECT `@timestamp`, computer_name, SourceImage, TargetImage, GrantedAccess\n",
    "    FROM mordor_file\n",
    "    WHERE channel = \"Microsoft-Windows-Sysmon/Operational\"\n",
    "        AND event_id = 10\n",
    "        AND lower(TargetImage) LIKE \"%lsass.exe\"\n",
    "        AND (lower(CallTrace) RLIKE \".*dbgcore\\.dll.*\" OR lower(CallTrace) RLIKE \".*dbghelp\\.dll.*\")\n",
    "    '''\n",
    ")\n",
    "sysmon_process_access_df.show(10,False)"
   ]
  },
  {
   "cell_type": "markdown",
   "metadata": {},
   "source": [
    "### Validate Analytic IV\n",
    "| FP Rate | Source | Analytic Logic | Description |\n",
    "|--------|---------|---------|---------|\n",
    "| Low | Security | SELECT o.`@timestamp`, o.computer_name, o.Image, o.ProcessGuid, a.SourceProcessGUID, o.CommandLine FROM mordor_file o INNER JOIN (SELECT computer_name,SourceProcessGUID FROM mordor_file WHERE channel = \"Microsoft-Windows-Sysmon/Operational\" AND event_id = 10 AND lower(TargetImage) LIKE \"%lsass.exe\" AND (lower(CallTrace) RLIKE \".*dbgcore\\.dll.*\" OR lower(CallTrace) RLIKE \".*dbghelp\\.dll.*\")) a ON o.ProcessGuid = a.SourceProcessGUID WHERE o.channel = \"Microsoft-Windows-Sysmon/Operational\" AND o.event_id = 1 | Look for combinations of process access and process creation to get more context around potential lsass dump form task manager or other binaries |"
   ]
  },
  {
   "cell_type": "code",
   "execution_count": 8,
   "metadata": {},
   "outputs": [
    {
     "name": "stdout",
     "output_type": "stream",
     "text": [
      "+------------------------+----------------+-------------------------------+--------+--------------------------------------+--------------------------------------+------------------------------------+\n",
      "|@timestamp              |computer_name   |Image                          |LogonId |ProcessGuid                           |SourceProcessGUID                     |CommandLine                         |\n",
      "+------------------------+----------------+-------------------------------+--------+--------------------------------------+--------------------------------------+------------------------------------+\n",
      "|2019-10-27T05:50:56.347Z|HFDC01.shire.com|C:\\Windows\\System32\\Taskmgr.exe|0x6a7c4d|{e7604876-3040-5db5-0000-00100e2e8300}|{e7604876-3040-5db5-0000-00100e2e8300}|\"C:\\Windows\\system32\\taskmgr.exe\" /7|\n",
      "+------------------------+----------------+-------------------------------+--------+--------------------------------------+--------------------------------------+------------------------------------+\n",
      "\n"
     ]
    }
   ],
   "source": [
    "sysmon_1_10 = spark.sql(\n",
    "    '''\n",
    "    SELECT o.`@timestamp`, o.computer_name, o.Image, o.LogonId, o.ProcessGuid, a.SourceProcessGUID, o.CommandLine\n",
    "    FROM mordor_file o\n",
    "    INNER JOIN (\n",
    "        SELECT computer_name,SourceProcessGUID\n",
    "        FROM mordor_file\n",
    "        WHERE channel = \"Microsoft-Windows-Sysmon/Operational\"\n",
    "            AND event_id = 10\n",
    "            AND lower(TargetImage) LIKE \"%lsass.exe\"\n",
    "            AND (lower(CallTrace) RLIKE \".*dbgcore\\.dll.*\" OR lower(CallTrace) RLIKE \".*dbghelp\\.dll.*\")\n",
    "        ) a\n",
    "    ON o.ProcessGuid = a.SourceProcessGUID\n",
    "    WHERE o.channel = \"Microsoft-Windows-Sysmon/Operational\"\n",
    "        AND o.event_id = 1\n",
    "    '''\n",
    ")\n",
    "sysmon_1_10.show(10,False)"
   ]
  },
  {
   "cell_type": "markdown",
   "metadata": {},
   "source": [
    "### Validate Analytic V\n",
    "| FP Rate | Source | Analytic Logic | Description |\n",
    "|--------|---------|---------|---------|\n",
    "| Low | Security | SELECT o.`@timestamp`, o.computer_name, o.SessionName, o.AccountName, o.ClientName, o.ClientAddress, a.Image, a.CommandLine FROM mordor_file o INNER JOIN (SELECT LogonId, Image, CommandLine FROM sysmon_join) a ON o.LogonID = a.LogonId WHERE lower(o.channel) = \"security\" AND o.event_id = 4778| Look for binaries accessing lsass that are running under the same logon context of a user over an RDP session |"
   ]
  },
  {
   "cell_type": "code",
   "execution_count": 15,
   "metadata": {},
   "outputs": [],
   "source": [
    "sysmon_1_10.createOrReplaceTempView(\"sysmon_join\")"
   ]
  },
  {
   "cell_type": "code",
   "execution_count": 25,
   "metadata": {},
   "outputs": [
    {
     "name": "stdout",
     "output_type": "stream",
     "text": [
      "+------------------------+----------------+-----------+-------------+----------+-------------+-------------------------------+------------------------------------+\n",
      "|@timestamp              |computer_name   |SessionName|AccountName  |ClientName|ClientAddress|Image                          |CommandLine                         |\n",
      "+------------------------+----------------+-----------+-------------+----------+-------------+-------------------------------+------------------------------------+\n",
      "|2019-10-27T05:50:47.424Z|HFDC01.shire.com|RDP-Tcp#5  |Administrator|IT001     |172.18.39.105|C:\\Windows\\System32\\Taskmgr.exe|\"C:\\Windows\\system32\\taskmgr.exe\" /7|\n",
      "+------------------------+----------------+-----------+-------------+----------+-------------+-------------------------------+------------------------------------+\n",
      "\n"
     ]
    }
   ],
   "source": [
    "sysmon_security = spark.sql(\n",
    "    '''\n",
    "    SELECT o.`@timestamp`, o.computer_name, o.SessionName, o.AccountName, o.ClientName, o.ClientAddress, a.Image, a.CommandLine\n",
    "    FROM mordor_file o\n",
    "    INNER JOIN (\n",
    "        SELECT LogonId, Image, CommandLine\n",
    "        FROM sysmon_join\n",
    "        ) a\n",
    "    ON o.LogonID = a.LogonId\n",
    "    WHERE lower(o.channel) = \"security\"\n",
    "        AND o.event_id = 4778\n",
    "    '''\n",
    ")\n",
    "sysmon_security.show(10,False)"
   ]
  },
  {
   "cell_type": "markdown",
   "metadata": {},
   "source": [
    "## Detection Blind Spots\n",
    "\n",
    "## Hunter Notes\n",
    "\n",
    "* Add context to your queries by joining RDP remote interactive authentication events by the logon ID.\n",
    "\n",
    "## Hunt Output\n",
    "\n",
    "\n",
    "## References\n",
    "\n",
    "* https://car.mitre.org/analytics/CAR-2019-08-001/"
   ]
  },
  {
   "cell_type": "code",
   "execution_count": null,
   "metadata": {},
   "outputs": [],
   "source": []
  }
 ],
 "metadata": {
  "kernelspec": {
   "display_name": "PySpark_Python3",
   "language": "python",
   "name": "pyspark3"
  },
  "language_info": {
   "codemirror_mode": {
    "name": "ipython",
    "version": 3
   },
   "file_extension": ".py",
   "mimetype": "text/x-python",
   "name": "python",
   "nbconvert_exporter": "python",
   "pygments_lexer": "ipython3",
   "version": "3.7.3"
  }
 },
 "nbformat": 4,
 "nbformat_minor": 4
}